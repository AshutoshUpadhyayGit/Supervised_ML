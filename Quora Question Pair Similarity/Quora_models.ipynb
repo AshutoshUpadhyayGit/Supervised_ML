{
  "cells": [
    {
      "cell_type": "code",
      "execution_count": null,
      "metadata": {
        "id": "6VXPfRp-tARR"
      },
      "outputs": [],
      "source": [
        "import pandas as pd\n",
        "import matplotlib.pyplot as plt\n",
        "import re\n",
        "import time\n",
        "import warnings\n",
        "import sqlite3\n",
        "from sqlalchemy import create_engine # database connection\n",
        "import csv\n",
        "import os\n",
        "warnings.filterwarnings(\"ignore\")\n",
        "import datetime as dt\n",
        "import numpy as np\n",
        "from nltk.corpus import stopwords\n",
        "from sklearn.decomposition import TruncatedSVD\n",
        "from sklearn.preprocessing import normalize\n",
        "from sklearn.feature_extraction.text import CountVectorizer\n",
        "from sklearn.manifold import TSNE\n",
        "import seaborn as sns\n",
        "from sklearn.neighbors import KNeighborsClassifier\n",
        "from sklearn.metrics import confusion_matrix\n",
        "from sklearn.metrics import accuracy_score, log_loss\n",
        "from sklearn.feature_extraction.text import TfidfVectorizer\n",
        "from collections import Counter\n",
        "from scipy.sparse import hstack\n",
        "from sklearn.multiclass import OneVsRestClassifier\n",
        "from sklearn.svm import SVC\n",
        "from sklearn.model_selection import StratifiedKFold \n",
        "from collections import Counter, defaultdict\n",
        "from sklearn.calibration import CalibratedClassifierCV\n",
        "from sklearn.naive_bayes import MultinomialNB\n",
        "from sklearn.naive_bayes import GaussianNB\n",
        "from sklearn.model_selection import train_test_split\n",
        "from sklearn.model_selection import GridSearchCV\n",
        "import math\n",
        "from sklearn.metrics import normalized_mutual_info_score\n",
        "from sklearn.ensemble import RandomForestClassifier\n",
        "\n",
        "\n",
        "\n",
        "from sklearn.model_selection import cross_val_score\n",
        "from sklearn.linear_model import SGDClassifier\n",
        "\n",
        "# Installing a package\n",
        "import sys\n",
        "# !{sys.executable} -m pip install [package_name]\n",
        "# !{sys.executable} -m pip install mlxtend\n",
        "\n",
        "# import mlextend.classifier\n",
        "# from mlxtend.classifier import StackingClassifier\n",
        "\n",
        "from sklearn import model_selection\n",
        "from sklearn.linear_model import LogisticRegression\n",
        "from sklearn.metrics import precision_recall_curve, auc, roc_curve"
      ]
    },
    {
      "cell_type": "code",
      "execution_count": null,
      "metadata": {
        "colab": {
          "base_uri": "https://localhost:8080/"
        },
        "id": "uDRGCxGr0gck",
        "outputId": "924d187a-412e-478b-873c-5e47988a87b8"
      },
      "outputs": [
        {
          "name": "stdout",
          "output_type": "stream",
          "text": [
            "Mounted at /content/drive\n"
          ]
        }
      ],
      "source": [
        "from google.colab import drive\n",
        "drive.mount('/content/drive')\n",
        "\n",
        "import sys\n",
        "sys.path.append('/content/drive/MyDrive/Colab Notebooks/Supervised_ML_UseCase_Quora Question Pair Similarity')"
      ]
    },
    {
      "cell_type": "markdown",
      "metadata": {
        "id": "ZihvUPvHtARd"
      },
      "source": [
        "<h1>4. Machine Learning Models </h1>"
      ]
    },
    {
      "cell_type": "markdown",
      "metadata": {
        "id": "CtN9VBPutARf"
      },
      "source": [
        "<h2> 4.1 Reading features files </h2>"
      ]
    },
    {
      "cell_type": "code",
      "execution_count": null,
      "metadata": {
        "id": "ZkeBKktKtAR3"
      },
      "outputs": [],
      "source": [
        "data = pd.read_csv(\"/content/drive/MyDrive/Colab Notebooks/Supervised_ML_UseCase_Quora Question Pair Similarity/final_features.csv\").head(100000)"
      ]
    },
    {
      "cell_type": "code",
      "execution_count": null,
      "metadata": {
        "id": "JGIbbbcW_u5T"
      },
      "outputs": [],
      "source": [
        "y_true = data['is_duplicate']\n",
        "data.drop(['Unnamed: 0', 'id','is_duplicate'], axis=1, inplace=True)"
      ]
    },
    {
      "cell_type": "code",
      "execution_count": null,
      "metadata": {
        "colab": {
          "base_uri": "https://localhost:8080/"
        },
        "id": "JRivdpri_WE0",
        "outputId": "0aa04abe-fafe-45dc-9011-c7f4d8cfdb77"
      },
      "outputs": [
        {
          "data": {
            "text/plain": [
              "(100000, 218)"
            ]
          },
          "execution_count": 5,
          "metadata": {},
          "output_type": "execute_result"
        }
      ],
      "source": [
        "data.shape"
      ]
    },
    {
      "cell_type": "code",
      "execution_count": null,
      "metadata": {
        "colab": {
          "base_uri": "https://localhost:8080/",
          "height": 299
        },
        "id": "QKSenpsmtAR9",
        "outputId": "acfbd12c-0d51-42e7-d915-cb2cd121d76e"
      },
      "outputs": [
        {
          "data": {
            "text/html": [
              "\n",
              "  <div id=\"df-65eb4838-4389-4422-852b-3aef54bee683\">\n",
              "    <div class=\"colab-df-container\">\n",
              "      <div>\n",
              "<style scoped>\n",
              "    .dataframe tbody tr th:only-of-type {\n",
              "        vertical-align: middle;\n",
              "    }\n",
              "\n",
              "    .dataframe tbody tr th {\n",
              "        vertical-align: top;\n",
              "    }\n",
              "\n",
              "    .dataframe thead th {\n",
              "        text-align: right;\n",
              "    }\n",
              "</style>\n",
              "<table border=\"1\" class=\"dataframe\">\n",
              "  <thead>\n",
              "    <tr style=\"text-align: right;\">\n",
              "      <th></th>\n",
              "      <th>cwc_min</th>\n",
              "      <th>cwc_max</th>\n",
              "      <th>csc_min</th>\n",
              "      <th>csc_max</th>\n",
              "      <th>ctc_min</th>\n",
              "      <th>ctc_max</th>\n",
              "      <th>last_word_eq</th>\n",
              "      <th>first_word_eq</th>\n",
              "      <th>abs_len_diff</th>\n",
              "      <th>mean_len</th>\n",
              "      <th>...</th>\n",
              "      <th>86_y</th>\n",
              "      <th>87_y</th>\n",
              "      <th>88_y</th>\n",
              "      <th>89_y</th>\n",
              "      <th>90_y</th>\n",
              "      <th>91_y</th>\n",
              "      <th>92_y</th>\n",
              "      <th>93_y</th>\n",
              "      <th>94_y</th>\n",
              "      <th>95_y</th>\n",
              "    </tr>\n",
              "  </thead>\n",
              "  <tbody>\n",
              "    <tr>\n",
              "      <th>0</th>\n",
              "      <td>0.999983</td>\n",
              "      <td>0.857131</td>\n",
              "      <td>0.0</td>\n",
              "      <td>0.0</td>\n",
              "      <td>0.857131</td>\n",
              "      <td>0.749991</td>\n",
              "      <td>1</td>\n",
              "      <td>1</td>\n",
              "      <td>1</td>\n",
              "      <td>7.5</td>\n",
              "      <td>...</td>\n",
              "      <td>-72.266625</td>\n",
              "      <td>-37.072086</td>\n",
              "      <td>-31.142730</td>\n",
              "      <td>94.064854</td>\n",
              "      <td>-45.053242</td>\n",
              "      <td>-34.155221</td>\n",
              "      <td>-76.548099</td>\n",
              "      <td>99.282776</td>\n",
              "      <td>50.791731</td>\n",
              "      <td>-17.566246</td>\n",
              "    </tr>\n",
              "    <tr>\n",
              "      <th>1</th>\n",
              "      <td>0.833319</td>\n",
              "      <td>0.454541</td>\n",
              "      <td>0.0</td>\n",
              "      <td>0.0</td>\n",
              "      <td>0.833319</td>\n",
              "      <td>0.454541</td>\n",
              "      <td>1</td>\n",
              "      <td>0</td>\n",
              "      <td>5</td>\n",
              "      <td>8.5</td>\n",
              "      <td>...</td>\n",
              "      <td>6.193171</td>\n",
              "      <td>-65.084229</td>\n",
              "      <td>-15.654534</td>\n",
              "      <td>-3.475828</td>\n",
              "      <td>26.999802</td>\n",
              "      <td>170.172613</td>\n",
              "      <td>-57.038953</td>\n",
              "      <td>194.269546</td>\n",
              "      <td>128.207803</td>\n",
              "      <td>55.490061</td>\n",
              "    </tr>\n",
              "    <tr>\n",
              "      <th>2</th>\n",
              "      <td>0.499992</td>\n",
              "      <td>0.428565</td>\n",
              "      <td>0.0</td>\n",
              "      <td>0.0</td>\n",
              "      <td>0.499992</td>\n",
              "      <td>0.428565</td>\n",
              "      <td>1</td>\n",
              "      <td>0</td>\n",
              "      <td>1</td>\n",
              "      <td>6.5</td>\n",
              "      <td>...</td>\n",
              "      <td>-26.185226</td>\n",
              "      <td>-19.283218</td>\n",
              "      <td>75.602438</td>\n",
              "      <td>24.144027</td>\n",
              "      <td>-91.874398</td>\n",
              "      <td>-178.454113</td>\n",
              "      <td>-91.471482</td>\n",
              "      <td>19.922719</td>\n",
              "      <td>21.266690</td>\n",
              "      <td>49.574858</td>\n",
              "    </tr>\n",
              "    <tr>\n",
              "      <th>3</th>\n",
              "      <td>0.249994</td>\n",
              "      <td>0.249994</td>\n",
              "      <td>0.0</td>\n",
              "      <td>0.0</td>\n",
              "      <td>0.249994</td>\n",
              "      <td>0.249994</td>\n",
              "      <td>1</td>\n",
              "      <td>0</td>\n",
              "      <td>0</td>\n",
              "      <td>4.0</td>\n",
              "      <td>...</td>\n",
              "      <td>-17.779019</td>\n",
              "      <td>30.152297</td>\n",
              "      <td>49.300137</td>\n",
              "      <td>27.783795</td>\n",
              "      <td>25.937188</td>\n",
              "      <td>-32.107076</td>\n",
              "      <td>-3.817634</td>\n",
              "      <td>-14.231000</td>\n",
              "      <td>4.772115</td>\n",
              "      <td>7.711628</td>\n",
              "    </tr>\n",
              "    <tr>\n",
              "      <th>4</th>\n",
              "      <td>0.499992</td>\n",
              "      <td>0.272725</td>\n",
              "      <td>0.0</td>\n",
              "      <td>0.0</td>\n",
              "      <td>0.499992</td>\n",
              "      <td>0.272725</td>\n",
              "      <td>1</td>\n",
              "      <td>0</td>\n",
              "      <td>5</td>\n",
              "      <td>8.5</td>\n",
              "      <td>...</td>\n",
              "      <td>36.089472</td>\n",
              "      <td>47.193216</td>\n",
              "      <td>-49.969586</td>\n",
              "      <td>44.796028</td>\n",
              "      <td>39.740803</td>\n",
              "      <td>-33.763309</td>\n",
              "      <td>-98.282341</td>\n",
              "      <td>22.118795</td>\n",
              "      <td>68.802072</td>\n",
              "      <td>21.025373</td>\n",
              "    </tr>\n",
              "  </tbody>\n",
              "</table>\n",
              "<p>5 rows × 218 columns</p>\n",
              "</div>\n",
              "      <button class=\"colab-df-convert\" onclick=\"convertToInteractive('df-65eb4838-4389-4422-852b-3aef54bee683')\"\n",
              "              title=\"Convert this dataframe to an interactive table.\"\n",
              "              style=\"display:none;\">\n",
              "        \n",
              "  <svg xmlns=\"http://www.w3.org/2000/svg\" height=\"24px\"viewBox=\"0 0 24 24\"\n",
              "       width=\"24px\">\n",
              "    <path d=\"M0 0h24v24H0V0z\" fill=\"none\"/>\n",
              "    <path d=\"M18.56 5.44l.94 2.06.94-2.06 2.06-.94-2.06-.94-.94-2.06-.94 2.06-2.06.94zm-11 1L8.5 8.5l.94-2.06 2.06-.94-2.06-.94L8.5 2.5l-.94 2.06-2.06.94zm10 10l.94 2.06.94-2.06 2.06-.94-2.06-.94-.94-2.06-.94 2.06-2.06.94z\"/><path d=\"M17.41 7.96l-1.37-1.37c-.4-.4-.92-.59-1.43-.59-.52 0-1.04.2-1.43.59L10.3 9.45l-7.72 7.72c-.78.78-.78 2.05 0 2.83L4 21.41c.39.39.9.59 1.41.59.51 0 1.02-.2 1.41-.59l7.78-7.78 2.81-2.81c.8-.78.8-2.07 0-2.86zM5.41 20L4 18.59l7.72-7.72 1.47 1.35L5.41 20z\"/>\n",
              "  </svg>\n",
              "      </button>\n",
              "      \n",
              "  <style>\n",
              "    .colab-df-container {\n",
              "      display:flex;\n",
              "      flex-wrap:wrap;\n",
              "      gap: 12px;\n",
              "    }\n",
              "\n",
              "    .colab-df-convert {\n",
              "      background-color: #E8F0FE;\n",
              "      border: none;\n",
              "      border-radius: 50%;\n",
              "      cursor: pointer;\n",
              "      display: none;\n",
              "      fill: #1967D2;\n",
              "      height: 32px;\n",
              "      padding: 0 0 0 0;\n",
              "      width: 32px;\n",
              "    }\n",
              "\n",
              "    .colab-df-convert:hover {\n",
              "      background-color: #E2EBFA;\n",
              "      box-shadow: 0px 1px 2px rgba(60, 64, 67, 0.3), 0px 1px 3px 1px rgba(60, 64, 67, 0.15);\n",
              "      fill: #174EA6;\n",
              "    }\n",
              "\n",
              "    [theme=dark] .colab-df-convert {\n",
              "      background-color: #3B4455;\n",
              "      fill: #D2E3FC;\n",
              "    }\n",
              "\n",
              "    [theme=dark] .colab-df-convert:hover {\n",
              "      background-color: #434B5C;\n",
              "      box-shadow: 0px 1px 3px 1px rgba(0, 0, 0, 0.15);\n",
              "      filter: drop-shadow(0px 1px 2px rgba(0, 0, 0, 0.3));\n",
              "      fill: #FFFFFF;\n",
              "    }\n",
              "  </style>\n",
              "\n",
              "      <script>\n",
              "        const buttonEl =\n",
              "          document.querySelector('#df-65eb4838-4389-4422-852b-3aef54bee683 button.colab-df-convert');\n",
              "        buttonEl.style.display =\n",
              "          google.colab.kernel.accessAllowed ? 'block' : 'none';\n",
              "\n",
              "        async function convertToInteractive(key) {\n",
              "          const element = document.querySelector('#df-65eb4838-4389-4422-852b-3aef54bee683');\n",
              "          const dataTable =\n",
              "            await google.colab.kernel.invokeFunction('convertToInteractive',\n",
              "                                                     [key], {});\n",
              "          if (!dataTable) return;\n",
              "\n",
              "          const docLinkHtml = 'Like what you see? Visit the ' +\n",
              "            '<a target=\"_blank\" href=https://colab.research.google.com/notebooks/data_table.ipynb>data table notebook</a>'\n",
              "            + ' to learn more about interactive tables.';\n",
              "          element.innerHTML = '';\n",
              "          dataTable['output_type'] = 'display_data';\n",
              "          await google.colab.output.renderOutput(dataTable, element);\n",
              "          const docLink = document.createElement('div');\n",
              "          docLink.innerHTML = docLinkHtml;\n",
              "          element.appendChild(docLink);\n",
              "        }\n",
              "      </script>\n",
              "    </div>\n",
              "  </div>\n",
              "  "
            ],
            "text/plain": [
              "    cwc_min   cwc_max  csc_min  csc_max   ctc_min   ctc_max  last_word_eq  \\\n",
              "0  0.999983  0.857131      0.0      0.0  0.857131  0.749991             1   \n",
              "1  0.833319  0.454541      0.0      0.0  0.833319  0.454541             1   \n",
              "2  0.499992  0.428565      0.0      0.0  0.499992  0.428565             1   \n",
              "3  0.249994  0.249994      0.0      0.0  0.249994  0.249994             1   \n",
              "4  0.499992  0.272725      0.0      0.0  0.499992  0.272725             1   \n",
              "\n",
              "   first_word_eq  abs_len_diff  mean_len  ...       86_y       87_y  \\\n",
              "0              1             1       7.5  ... -72.266625 -37.072086   \n",
              "1              0             5       8.5  ...   6.193171 -65.084229   \n",
              "2              0             1       6.5  ... -26.185226 -19.283218   \n",
              "3              0             0       4.0  ... -17.779019  30.152297   \n",
              "4              0             5       8.5  ...  36.089472  47.193216   \n",
              "\n",
              "        88_y       89_y       90_y        91_y       92_y        93_y  \\\n",
              "0 -31.142730  94.064854 -45.053242  -34.155221 -76.548099   99.282776   \n",
              "1 -15.654534  -3.475828  26.999802  170.172613 -57.038953  194.269546   \n",
              "2  75.602438  24.144027 -91.874398 -178.454113 -91.471482   19.922719   \n",
              "3  49.300137  27.783795  25.937188  -32.107076  -3.817634  -14.231000   \n",
              "4 -49.969586  44.796028  39.740803  -33.763309 -98.282341   22.118795   \n",
              "\n",
              "         94_y       95_y  \n",
              "0   50.791731 -17.566246  \n",
              "1  128.207803  55.490061  \n",
              "2   21.266690  49.574858  \n",
              "3    4.772115   7.711628  \n",
              "4   68.802072  21.025373  \n",
              "\n",
              "[5 rows x 218 columns]"
            ]
          },
          "execution_count": 6,
          "metadata": {},
          "output_type": "execute_result"
        }
      ],
      "source": [
        "data.head()"
      ]
    },
    {
      "cell_type": "markdown",
      "metadata": {
        "id": "KaWHDzqUtASD"
      },
      "source": [
        "<h2> 4.2 Converting strings to numerics </h2>"
      ]
    },
    {
      "cell_type": "code",
      "execution_count": null,
      "metadata": {
        "id": "iLV60gkptASD"
      },
      "outputs": [],
      "source": [
        "# after we read from sql table each entry was read it as a string\n",
        "# we convert all the features into numaric before we apply any model\n",
        "cols = list(data.columns)\n",
        "# for i in cols:\n",
        "#     data[i] = data[i].apply(pd.to_numeric)\n",
        "#     print(i)\n",
        "\n",
        "data = pd.DataFrame(np.array(data.values,dtype=np.float64),columns=cols)"
      ]
    },
    {
      "cell_type": "code",
      "execution_count": null,
      "metadata": {
        "colab": {
          "base_uri": "https://localhost:8080/"
        },
        "id": "iq_hh5zGAac7",
        "outputId": "bd0846af-9093-4a58-ed27-6b6a2f8009e2"
      },
      "outputs": [
        {
          "name": "stdout",
          "output_type": "stream",
          "text": [
            "<class 'pandas.core.frame.DataFrame'>\n",
            "RangeIndex: 100000 entries, 0 to 99999\n",
            "Columns: 218 entries, cwc_min to 95_y\n",
            "dtypes: float64(218)\n",
            "memory usage: 166.3 MB\n"
          ]
        }
      ],
      "source": [
        "data.info()"
      ]
    },
    {
      "cell_type": "code",
      "execution_count": null,
      "metadata": {
        "id": "_LpfQwc9tASJ"
      },
      "outputs": [],
      "source": [
        "# https://stackoverflow.com/questions/7368789/convert-all-strings-in-a-list-to-int\n",
        "y_true = list(map(int, y_true.values))"
      ]
    },
    {
      "cell_type": "markdown",
      "metadata": {
        "id": "CuMTqWGutASO"
      },
      "source": [
        "<h2> 4.3 Random train test split( 70:30) </h2>"
      ]
    },
    {
      "cell_type": "code",
      "execution_count": null,
      "metadata": {
        "id": "3Rat2obGtASP"
      },
      "outputs": [],
      "source": [
        "X_train,X_test, y_train, y_test = train_test_split(data, y_true, stratify=y_true, test_size=0.3)\n",
        "\n",
        "\n",
        "# split the data set into train and test\n",
        "X_train,X_test, y_train, y_test = model_selection.train_test_split(data,  y_true, stratify=y_true, test_size=0.3,random_state=0)\n",
        "\n",
        "# split the train data set into cross validation train and cross validation test\n",
        "X_train, X_cv, y_train, y_cv = model_selection.train_test_split(X_train, y_train, test_size=0.3)\n"
      ]
    },
    {
      "cell_type": "code",
      "execution_count": null,
      "metadata": {
        "colab": {
          "base_uri": "https://localhost:8080/"
        },
        "id": "1Iw9zCHqtASS",
        "outputId": "68a068b2-1d04-4beb-db9a-c200ae580771"
      },
      "outputs": [
        {
          "name": "stdout",
          "output_type": "stream",
          "text": [
            "Number of data points in train data : (49000, 218)\n",
            "Number of data points in test data : (30000, 218)\n"
          ]
        }
      ],
      "source": [
        "print(\"Number of data points in train data :\",X_train.shape)\n",
        "print(\"Number of data points in test data :\",X_test.shape)"
      ]
    },
    {
      "cell_type": "code",
      "execution_count": null,
      "metadata": {
        "colab": {
          "base_uri": "https://localhost:8080/"
        },
        "id": "0oDV15LJtASY",
        "outputId": "802874a4-9ae4-424d-cac1-406ea1ea6b47"
      },
      "outputs": [
        {
          "name": "stdout",
          "output_type": "stream",
          "text": [
            "---------- Distribution of output variable in train data ----------\n",
            "Class 0:  0.6285306122448979 Class 1:  0.371469387755102\n",
            "---------- Distribution of output variable in test data ----------\n",
            "Class 0:  0.6274666666666666 Class 1:  0.3725333333333333\n"
          ]
        }
      ],
      "source": [
        "print(\"-\"*10, \"Distribution of output variable in train data\", \"-\"*10)\n",
        "train_distr = Counter(y_train)  # Output = Counter({0: 43922, 1: 26078})\n",
        "train_len = len(y_train)\n",
        "print(\"Class 0: \",int(train_distr[0])/train_len,\"Class 1: \", int(train_distr[1])/train_len)\n",
        "\n",
        "\n",
        "print(\"-\"*10, \"Distribution of output variable in test data\", \"-\"*10)\n",
        "test_distr = Counter(y_test)  # Output = Counter({0: 18824, 1: 11176})\n",
        "test_len = len(y_test)\n",
        "print(\"Class 0: \",int(test_distr[0])/test_len, \"Class 1: \",int(test_distr[1])/test_len)"
      ]
    },
    {
      "cell_type": "code",
      "execution_count": null,
      "metadata": {
        "id": "XfxcPT6jtASg"
      },
      "outputs": [],
      "source": [
        "# This function plots the confusion matrices given y_i(actual output), y_i_hat(predicted output).\n",
        "def plot_confusion_matrix(test_y, predict_y):\n",
        "    C = confusion_matrix(test_y, predict_y)\n",
        "    # C = 9,9 matrix, each cell (i,j) represents number of points of class i are predicted class j\n",
        "    \n",
        "    A =(((C.T)/(C.sum(axis=1))).T)\n",
        "    #divid each element of the confusion matrix with the sum of elements in that column\n",
        "    \n",
        "    # C = [[1, 2],\n",
        "    #     [3, 4]]\n",
        "    # C.T = [[1, 3],\n",
        "    #        [2, 4]]\n",
        "    # C.sum(axis = 1)  axis=0 corresonds to columns and axis=1 corresponds to rows in two diamensional array\n",
        "    # C.sum(axix =1) = [[3, 7]]\n",
        "    # ((C.T)/(C.sum(axis=1))) = [[1/3, 3/7]\n",
        "    #                           [2/3, 4/7]]\n",
        "\n",
        "    # ((C.T)/(C.sum(axis=1))).T = [[1/3, 2/3]\n",
        "    #                           [3/7, 4/7]]\n",
        "    # sum of row elements = 1\n",
        "    \n",
        "    B =(C/C.sum(axis=0))\n",
        "    #divid each element of the confusion matrix with the sum of elements in that row\n",
        "    # C = [[1, 2],\n",
        "    #     [3, 4]]\n",
        "    # C.sum(axis = 0)  axis=0 corresonds to columns and axis=1 corresponds to rows in two diamensional array\n",
        "    # C.sum(axix =0) = [[4, 6]]\n",
        "    # (C/C.sum(axis=0)) = [[1/4, 2/6],\n",
        "    #                      [3/4, 4/6]] \n",
        "    plt.figure(figsize=(20,4))\n",
        "    \n",
        "    labels = [1,2]\n",
        "    # representing A in heatmap format\n",
        "    cmap=sns.light_palette(\"blue\")\n",
        "    plt.subplot(1, 3, 1)\n",
        "    sns.heatmap(C, annot=True, cmap=cmap, fmt=\".3f\", xticklabels=labels, yticklabels=labels)\n",
        "    plt.xlabel('Predicted Class')\n",
        "    plt.ylabel('Original Class')\n",
        "    plt.title(\"Confusion matrix\")\n",
        "    \n",
        "    plt.subplot(1, 3, 2)\n",
        "    sns.heatmap(B, annot=True, cmap=cmap, fmt=\".3f\", xticklabels=labels, yticklabels=labels)\n",
        "    plt.xlabel('Predicted Class')\n",
        "    plt.ylabel('Original Class')\n",
        "    plt.title(\"Precision matrix\")\n",
        "    \n",
        "    plt.subplot(1, 3, 3)\n",
        "    # representing B in heatmap format\n",
        "    sns.heatmap(A, annot=True, cmap=cmap, fmt=\".3f\", xticklabels=labels, yticklabels=labels)\n",
        "    plt.xlabel('Predicted Class')\n",
        "    plt.ylabel('Original Class')\n",
        "    plt.title(\"Recall matrix\")\n",
        "    \n",
        "    plt.show()"
      ]
    },
    {
      "cell_type": "markdown",
      "metadata": {
        "id": "UStQJ5F_tASk"
      },
      "source": [
        "<h2> 4.4 Building a random model (Finding worst-case log-loss) </h2>\n",
        "\n",
        "> A random model is a model that randomly predicts the output given an input.\n",
        "This is done in order get a base worst model.\n",
        "Our aim is fond a model with log loss value less than the log loss value of the random(worst) model"
      ]
    },
    {
      "cell_type": "code",
      "execution_count": null,
      "metadata": {
        "colab": {
          "base_uri": "https://localhost:8080/",
          "height": 312
        },
        "id": "qwMDqcU7tASl",
        "outputId": "016a5b90-9128-4db5-eb41-365c9da246a8"
      },
      "outputs": [
        {
          "name": "stdout",
          "output_type": "stream",
          "text": [
            "Log loss on Test Data using Random Model 0.8813963935214069\n"
          ]
        },
        {
          "data": {
            "image/png": "[encoded data removed]",
            "text/plain": [
              "<Figure size 1440x288 with 6 Axes>"
            ]
          },
          "metadata": {},
          "output_type": "display_data"
        }
      ],
      "source": [
        "# we need to generate 9 numbers and the sum of numbers should be 1\n",
        "# one solution is to genarate 9 numbers and divide each of the numbers by their sum\n",
        "# ref: https://stackoverflow.com/a/18662466/4084039\n",
        "# we create a output array that has exactly same size as the CV data\n",
        "predicted_y = np.zeros((test_len,2))\n",
        "for i in range(test_len):\n",
        "    rand_probs = np.random.rand(1,2)\n",
        "    predicted_y[i] = ((rand_probs/sum(sum(rand_probs)))[0])\n",
        "print(\"Log loss on Test Data using Random Model\",log_loss(y_test, predicted_y, eps=1e-15))\n",
        "\n",
        "predicted_y =np.argmax(predicted_y, axis=1)\n",
        "plot_confusion_matrix(y_test, predicted_y)"
      ]
    },
    {
      "cell_type": "markdown",
      "metadata": {
        "id": "YgY29g_qtASq"
      },
      "source": [
        "<h2> 4.4 Logistic Regression with hyperparameter tuning </h2>"
      ]
    },
    {
      "cell_type": "code",
      "execution_count": null,
      "metadata": {
        "colab": {
          "base_uri": "https://localhost:8080/",
          "height": 417
        },
        "id": "Wb2tOE3GtASr",
        "outputId": "bdf036a3-75ac-43fa-fd12-d468a9afb1f3"
      },
      "outputs": [
        {
          "name": "stdout",
          "output_type": "stream",
          "text": [
            "For values of alpha =  1e-05 The log loss is: 0.5655494422025098\n",
            "For values of alpha =  0.0001 The log loss is: 0.4730626010968873\n",
            "For values of alpha =  0.001 The log loss is: 0.486748914275687\n",
            "For values of alpha =  0.01 The log loss is: 0.46454281126930447\n",
            "For values of alpha =  0.1 The log loss is: 0.4682185062781691\n",
            "For values of alpha =  1 The log loss is: 0.4922766858341101\n",
            "For values of alpha =  10 The log loss is: 0.5338765538393134\n"
          ]
        },
        {
          "data": {
            "image/png": "[encoded data removed]",
            "text/plain": [
              "<Figure size 432x288 with 1 Axes>"
            ]
          },
          "metadata": {},
          "output_type": "display_data"
        }
      ],
      "source": [
        "# read more about SGDClassifier() at http://scikit-learn.org/stable/modules/generated/sklearn.linear_model.SGDClassifier.html\n",
        "# ------------------------------\n",
        "# default parameters\n",
        "# SGDClassifier(loss=’hinge’, penalty=’l2’, alpha=0.0001, l1_ratio=0.15, fit_intercept=True, max_iter=None, tol=None, \n",
        "# shuffle=True, verbose=0, epsilon=0.1, n_jobs=1, random_state=None, learning_rate=’optimal’, eta0=0.0, power_t=0.5, \n",
        "# class_weight=None, warm_start=False, average=False, n_iter=None)\n",
        "\n",
        "# some of methods\n",
        "# fit(X, y[, coef_init, intercept_init, …])\tFit linear model with Stochastic Gradient Descent.\n",
        "# predict(X)\tPredict class labels for samples in X.\n",
        "\n",
        "#-------------------------------\n",
        "# video link: \n",
        "#------------------------------\n",
        "\n",
        "alpha = [10 ** x for x in range(-5, 2)] # hyperparam for SGD classifier.\n",
        "\n",
        "log_error_array=[]\n",
        "for i in alpha:\n",
        "\n",
        "    # Traing the Model at given alpha value with training dataset\n",
        "\n",
        "    clf = SGDClassifier(alpha=i, penalty='l2', loss='log', random_state=42)\n",
        "    clf.fit(X_train, y_train)\n",
        "\n",
        "    # Calibration Model so as to get probabilistic output so that Log Loss can be calculated.\n",
        "\n",
        "    sig_clf = CalibratedClassifierCV(clf, method=\"sigmoid\")\n",
        "    sig_clf.fit(X_train, y_train)\n",
        "\n",
        "    # Predict output for validation dataset.(X_cv)\n",
        "    predict_y_cv = sig_clf.predict_proba(X_cv)\n",
        "    log_error_array.append(log_loss(y_cv, predict_y_cv, labels=clf.classes_, eps=1e-15))\n",
        "    print('For values of alpha = ', i, \"The log loss is:\",log_loss(y_cv, predict_y_cv, labels=clf.classes_, eps=1e-15))\n",
        "\n",
        "fig, ax = plt.subplots()\n",
        "ax.plot(alpha, log_error_array,c='g')\n",
        "for i, txt in enumerate(np.round(log_error_array,3)):\n",
        "    ax.annotate((alpha[i],np.round(txt,3)), (alpha[i],log_error_array[i]))\n",
        "plt.grid()\n",
        "plt.title(\"Cross Validation Error for each alpha\")\n",
        "plt.xlabel(\"Alpha i's\")\n",
        "plt.ylabel(\"Error measure\")\n",
        "plt.show()\n",
        "\n"
      ]
    },
    {
      "cell_type": "markdown",
      "metadata": {
        "id": "Ma8fc_qhIWsw"
      },
      "source": [
        "### Retraining of Model with best hyperparameter values and calculating Log Loss and Confusion Matrix as KPI(key performance Indicator)"
      ]
    },
    {
      "cell_type": "code",
      "execution_count": null,
      "metadata": {
        "colab": {
          "base_uri": "https://localhost:8080/",
          "height": 365
        },
        "id": "ruEMzUBNIVQA",
        "outputId": "440caee6-7f69-4879-a57d-e1fd5d4cc97a"
      },
      "outputs": [
        {
          "name": "stdout",
          "output_type": "stream",
          "text": [
            "The best alpha value with least log loss:  0.01\n",
            "For values of best alpha =  0.01 The train log loss is: 0.4605117747487816\n",
            "For values of best alpha =  0.01 The test log loss is: 0.4630283436359216\n",
            "Total number of data points : 30000\n"
          ]
        },
        {
          "data": {
            "image/png": "[encoded data removed]",
            "text/plain": [
              "<Figure size 1440x288 with 6 Axes>"
            ]
          },
          "metadata": {},
          "output_type": "display_data"
        }
      ],
      "source": [
        "\n",
        "#  Taking alpha with least cross validation error and retraining the model\n",
        "best_alpha = np.argmin(log_error_array)\n",
        "print(\"The best alpha value with least log loss: \",alpha[best_alpha])\n",
        "clf = SGDClassifier(alpha=alpha[best_alpha], penalty='l2', loss='log', random_state=42)\n",
        "clf.fit(X_train, y_train)\n",
        "\n",
        "\n",
        "# Calibration Model so as to get probabilistic output so that Log Loss can be calculated.\n",
        "\n",
        "sig_clf = CalibratedClassifierCV(clf, method=\"sigmoid\")\n",
        "sig_clf.fit(X_train, y_train)\n",
        "\n",
        "predict_y = sig_clf.predict_proba(X_train)\n",
        "print('For values of best alpha = ', alpha[best_alpha], \"The train log loss is:\",log_loss(y_train, predict_y, labels=clf.classes_, eps=1e-15))\n",
        "\n",
        "# Calculating Logg loss on test dataset\n",
        "\n",
        "predict_y = sig_clf.predict_proba(X_test)\n",
        "print('For values of best alpha = ', alpha[best_alpha], \"The test log loss is:\",log_loss(y_test, predict_y, labels=clf.classes_, eps=1e-15))\n",
        "predicted_y =np.argmax(predict_y,axis=1)\n",
        "print(\"Total number of data points :\", len(predicted_y))\n",
        "plot_confusion_matrix(y_test, predicted_y)"
      ]
    },
    {
      "cell_type": "markdown",
      "metadata": {
        "id": "ouQSEnr3tASy"
      },
      "source": [
        "<h2> 4.5 Linear SVM with hyperparameter tuning </h2>"
      ]
    },
    {
      "cell_type": "code",
      "execution_count": null,
      "metadata": {
        "colab": {
          "background_save": true,
          "base_uri": "https://localhost:8080/"
        },
        "id": "AOFfZ5PLtAS0",
        "outputId": "351fde45-1520-46ee-a7a7-894c14b0e1c6"
      },
      "outputs": [
        {
          "name": "stdout",
          "output_type": "stream",
          "text": [
            "For values of alpha =  1e-05 The log loss is: 0.6602925151890645\n",
            "For values of alpha =  0.0001 The log loss is: 0.6602925151890645\n",
            "For values of alpha =  0.001 The log loss is: 0.6105415702959378\n",
            "For values of alpha =  0.01 The log loss is: 0.49753753709014126\n",
            "For values of alpha =  0.1 The log loss is: 0.6185918399234839\n",
            "For values of alpha =  1 The log loss is: 0.6602925151890645\n",
            "For values of alpha =  10 The log loss is: 0.6602925151890645\n"
          ]
        },
        {
          "data": {
            "image/png": "[encoded data removed]",
            "text/plain": [
              "<Figure size 432x288 with 1 Axes>"
            ]
          },
          "metadata": {},
          "output_type": "display_data"
        },
        {
          "name": "stdout",
          "output_type": "stream",
          "text": [
            "For values of best alpha =  0.01 The train log loss is: 0.4973977381563755\n",
            "For values of best alpha =  0.01 The test log loss is: 0.49753753709014126\n",
            "Total number of data points : 30000\n"
          ]
        },
        {
          "data": {
            "image/png": "[encoded data removed]",
            "text/plain": [
              "<Figure size 1440x288 with 6 Axes>"
            ]
          },
          "metadata": {},
          "output_type": "display_data"
        }
      ],
      "source": [
        "alpha = [10 ** x for x in range(-5, 2)] # hyperparam for SGD classifier.\n",
        "\n",
        "# read more about SGDClassifier() at http://scikit-learn.org/stable/modules/generated/sklearn.linear_model.SGDClassifier.html\n",
        "# ------------------------------\n",
        "# default parameters\n",
        "# SGDClassifier(loss=’hinge’, penalty=’l2’, alpha=0.0001, l1_ratio=0.15, fit_intercept=True, max_iter=None, tol=None, \n",
        "# shuffle=True, verbose=0, epsilon=0.1, n_jobs=1, random_state=None, learning_rate=’optimal’, eta0=0.0, power_t=0.5, \n",
        "# class_weight=None, warm_start=False, average=False, n_iter=None)\n",
        "\n",
        "# some of methods\n",
        "# fit(X, y[, coef_init, intercept_init, …])\tFit linear model with Stochastic Gradient Descent.\n",
        "# predict(X)\tPredict class labels for samples in X.\n",
        "\n",
        "#-------------------------------\n",
        "# video link: \n",
        "#------------------------------\n",
        "\n",
        "\n",
        "log_error_array=[]\n",
        "for i in alpha:\n",
        "    clf = SGDClassifier(alpha=i, penalty='l1', loss='hinge', random_state=42)\n",
        "    clf.fit(X_train, y_train)\n",
        "    sig_clf = CalibratedClassifierCV(clf, method=\"sigmoid\")\n",
        "    sig_clf.fit(X_train, y_train)\n",
        "    predict_y = sig_clf.predict_proba(X_test)\n",
        "    log_error_array.append(log_loss(y_test, predict_y, labels=clf.classes_, eps=1e-15))\n",
        "    print('For values of alpha = ', i, \"The log loss is:\",log_loss(y_test, predict_y, labels=clf.classes_, eps=1e-15))\n",
        "\n",
        "fig, ax = plt.subplots()\n",
        "ax.plot(alpha, log_error_array,c='g')\n",
        "for i, txt in enumerate(np.round(log_error_array,3)):\n",
        "    ax.annotate((alpha[i],np.round(txt,3)), (alpha[i],log_error_array[i]))\n",
        "plt.grid()\n",
        "plt.title(\"Cross Validation Error for each alpha\")\n",
        "plt.xlabel(\"Alpha i's\")\n",
        "plt.ylabel(\"Error measure\")\n",
        "plt.show()\n",
        "\n",
        "\n",
        "best_alpha = np.argmin(log_error_array)\n",
        "clf = SGDClassifier(alpha=alpha[best_alpha], penalty='l1', loss='hinge', random_state=42)\n",
        "clf.fit(X_train, y_train)\n",
        "sig_clf = CalibratedClassifierCV(clf, method=\"sigmoid\")\n",
        "sig_clf.fit(X_train, y_train)\n",
        "\n",
        "predict_y = sig_clf.predict_proba(X_train)\n",
        "print('For values of best alpha = ', alpha[best_alpha], \"The train log loss is:\",log_loss(y_train, predict_y, labels=clf.classes_, eps=1e-15))\n",
        "predict_y = sig_clf.predict_proba(X_test)\n",
        "print('For values of best alpha = ', alpha[best_alpha], \"The test log loss is:\",log_loss(y_test, predict_y, labels=clf.classes_, eps=1e-15))\n",
        "predicted_y =np.argmax(predict_y,axis=1)\n",
        "print(\"Total number of data points :\", len(predicted_y))\n",
        "plot_confusion_matrix(y_test, predicted_y)"
      ]
    },
    {
      "cell_type": "markdown",
      "metadata": {
        "id": "ZhTJgclztAS6"
      },
      "source": [
        "<h2> 4.6 XGBoost </h2>"
      ]
    },
    {
      "cell_type": "code",
      "execution_count": null,
      "metadata": {
        "colab": {
          "background_save": true
        },
        "id": "9U367-xetAS7",
        "outputId": "764f8b11-b935-46bb-ebff-243f32e04fb7"
      },
      "outputs": [
        {
          "name": "stdout",
          "output_type": "stream",
          "text": [
            "[0]\ttrain-logloss:0.692724\tvalid-logloss:0.692755\n",
            "Multiple eval metrics have been passed: 'valid-logloss' will be used for early stopping.\n",
            "\n",
            "Will train until valid-logloss hasn't improved in 20 rounds.\n",
            "[10]\ttrain-logloss:0.688594\tvalid-logloss:0.688606\n",
            "[20]\ttrain-logloss:0.684551\tvalid-logloss:0.684624\n",
            "[30]\ttrain-logloss:0.680645\tvalid-logloss:0.68061\n",
            "[40]\ttrain-logloss:0.676831\tvalid-logloss:0.676796\n",
            "[50]\ttrain-logloss:0.672952\tvalid-logloss:0.673007\n",
            "[60]\ttrain-logloss:0.669237\tvalid-logloss:0.669324\n",
            "[70]\ttrain-logloss:0.665545\tvalid-logloss:0.66567\n",
            "[80]\ttrain-logloss:0.662048\tvalid-logloss:0.662078\n",
            "[90]\ttrain-logloss:0.658545\tvalid-logloss:0.658544\n",
            "[100]\ttrain-logloss:0.655131\tvalid-logloss:0.655099\n",
            "[110]\ttrain-logloss:0.651593\tvalid-logloss:0.651671\n",
            "[120]\ttrain-logloss:0.648241\tvalid-logloss:0.648372\n",
            "[130]\ttrain-logloss:0.645047\tvalid-logloss:0.645096\n",
            "[140]\ttrain-logloss:0.641745\tvalid-logloss:0.641864\n",
            "[150]\ttrain-logloss:0.638631\tvalid-logloss:0.638704\n",
            "[160]\ttrain-logloss:0.635585\tvalid-logloss:0.635595\n",
            "[170]\ttrain-logloss:0.632429\tvalid-logloss:0.632547\n",
            "[180]\ttrain-logloss:0.629461\tvalid-logloss:0.629536\n",
            "[190]\ttrain-logloss:0.626496\tvalid-logloss:0.626543\n",
            "[200]\ttrain-logloss:0.623476\tvalid-logloss:0.623545\n",
            "[210]\ttrain-logloss:0.620507\tvalid-logloss:0.620576\n",
            "[220]\ttrain-logloss:0.617562\tvalid-logloss:0.617652\n",
            "[230]\ttrain-logloss:0.614698\tvalid-logloss:0.614762\n",
            "[240]\ttrain-logloss:0.61181\tvalid-logloss:0.611909\n",
            "[250]\ttrain-logloss:0.609061\tvalid-logloss:0.609119\n",
            "[260]\ttrain-logloss:0.606252\tvalid-logloss:0.606342\n",
            "[270]\ttrain-logloss:0.603549\tvalid-logloss:0.603587\n",
            "[280]\ttrain-logloss:0.600872\tvalid-logloss:0.60096\n",
            "[290]\ttrain-logloss:0.598263\tvalid-logloss:0.598302\n",
            "[300]\ttrain-logloss:0.595706\tvalid-logloss:0.595712\n",
            "[310]\ttrain-logloss:0.593175\tvalid-logloss:0.593177\n",
            "[320]\ttrain-logloss:0.590668\tvalid-logloss:0.590682\n",
            "[330]\ttrain-logloss:0.588188\tvalid-logloss:0.58822\n",
            "[340]\ttrain-logloss:0.585812\tvalid-logloss:0.585754\n",
            "[350]\ttrain-logloss:0.583392\tvalid-logloss:0.583372\n",
            "[360]\ttrain-logloss:0.581078\tvalid-logloss:0.581026\n",
            "[370]\ttrain-logloss:0.578679\tvalid-logloss:0.578691\n",
            "[380]\ttrain-logloss:0.576443\tvalid-logloss:0.576424\n",
            "[390]\ttrain-logloss:0.574156\tvalid-logloss:0.574114\n",
            "[399]\ttrain-logloss:0.572148\tvalid-logloss:0.572103\n",
            "The cv log loss at learning rate :  0.001  is :  0.5720961847546555\n",
            "[0]\ttrain-logloss:0.689069\tvalid-logloss:0.689026\n",
            "Multiple eval metrics have been passed: 'valid-logloss' will be used for early stopping.\n",
            "\n",
            "Will train until valid-logloss hasn't improved in 20 rounds.\n",
            "[10]\ttrain-logloss:0.651811\tvalid-logloss:0.651905\n",
            "[20]\ttrain-logloss:0.620557\tvalid-logloss:0.620636\n",
            "[30]\ttrain-logloss:0.593135\tvalid-logloss:0.59314\n",
            "[40]\ttrain-logloss:0.569595\tvalid-logloss:0.569579\n",
            "[50]\ttrain-logloss:0.549322\tvalid-logloss:0.549311\n",
            "[60]\ttrain-logloss:0.531867\tvalid-logloss:0.531916\n",
            "[70]\ttrain-logloss:0.51637\tvalid-logloss:0.516499\n",
            "[80]\ttrain-logloss:0.5028\tvalid-logloss:0.502939\n",
            "[90]\ttrain-logloss:0.490388\tvalid-logloss:0.49061\n",
            "[100]\ttrain-logloss:0.479474\tvalid-logloss:0.479826\n",
            "[110]\ttrain-logloss:0.470125\tvalid-logloss:0.470612\n",
            "[120]\ttrain-logloss:0.461771\tvalid-logloss:0.46246\n",
            "[130]\ttrain-logloss:0.454223\tvalid-logloss:0.4551\n",
            "[140]\ttrain-logloss:0.447473\tvalid-logloss:0.448501\n",
            "[150]\ttrain-logloss:0.4415\tvalid-logloss:0.442696\n",
            "[160]\ttrain-logloss:0.436012\tvalid-logloss:0.437325\n",
            "[170]\ttrain-logloss:0.431126\tvalid-logloss:0.432597\n",
            "[180]\ttrain-logloss:0.426559\tvalid-logloss:0.428136\n",
            "[190]\ttrain-logloss:0.422479\tvalid-logloss:0.424225\n",
            "[200]\ttrain-logloss:0.418753\tvalid-logloss:0.420691\n",
            "[210]\ttrain-logloss:0.415347\tvalid-logloss:0.417474\n",
            "[220]\ttrain-logloss:0.41221\tvalid-logloss:0.414439\n",
            "[230]\ttrain-logloss:0.409384\tvalid-logloss:0.411755\n",
            "[240]\ttrain-logloss:0.406795\tvalid-logloss:0.409284\n",
            "[250]\ttrain-logloss:0.404354\tvalid-logloss:0.406977\n",
            "[260]\ttrain-logloss:0.4022\tvalid-logloss:0.404934\n",
            "[270]\ttrain-logloss:0.400146\tvalid-logloss:0.403\n",
            "[280]\ttrain-logloss:0.398308\tvalid-logloss:0.401295\n",
            "[290]\ttrain-logloss:0.39649\tvalid-logloss:0.399623\n",
            "[300]\ttrain-logloss:0.394785\tvalid-logloss:0.39806\n",
            "[310]\ttrain-logloss:0.393129\tvalid-logloss:0.396519\n",
            "[320]\ttrain-logloss:0.391609\tvalid-logloss:0.395135\n",
            "[330]\ttrain-logloss:0.390175\tvalid-logloss:0.393901\n",
            "[340]\ttrain-logloss:0.388771\tvalid-logloss:0.392637\n",
            "[350]\ttrain-logloss:0.387465\tvalid-logloss:0.391541\n",
            "[360]\ttrain-logloss:0.386388\tvalid-logloss:0.390604\n",
            "[370]\ttrain-logloss:0.385354\tvalid-logloss:0.389721\n",
            "[380]\ttrain-logloss:0.384328\tvalid-logloss:0.388813\n",
            "[390]\ttrain-logloss:0.38333\tvalid-logloss:0.387923\n",
            "[399]\ttrain-logloss:0.382457\tvalid-logloss:0.387199\n",
            "The cv log loss at learning rate :  0.01  is :  0.38720115669816735\n",
            "[0]\ttrain-logloss:0.653662\tvalid-logloss:0.653662\n",
            "Multiple eval metrics have been passed: 'valid-logloss' will be used for early stopping.\n",
            "\n",
            "Will train until valid-logloss hasn't improved in 20 rounds.\n",
            "[10]\ttrain-logloss:0.468993\tvalid-logloss:0.469371\n",
            "[20]\ttrain-logloss:0.414441\tvalid-logloss:0.416496\n",
            "[30]\ttrain-logloss:0.392519\tvalid-logloss:0.396249\n",
            "[40]\ttrain-logloss:0.380713\tvalid-logloss:0.385826\n",
            "[50]\ttrain-logloss:0.37233\tvalid-logloss:0.379362\n",
            "[60]\ttrain-logloss:0.365692\tvalid-logloss:0.374259\n",
            "[70]\ttrain-logloss:0.35935\tvalid-logloss:0.370189\n",
            "[80]\ttrain-logloss:0.354797\tvalid-logloss:0.368115\n",
            "[90]\ttrain-logloss:0.350469\tvalid-logloss:0.365988\n",
            "[100]\ttrain-logloss:0.346776\tvalid-logloss:0.364501\n",
            "[110]\ttrain-logloss:0.343098\tvalid-logloss:0.363113\n",
            "[120]\ttrain-logloss:0.339686\tvalid-logloss:0.362193\n",
            "[130]\ttrain-logloss:0.335967\tvalid-logloss:0.360812\n",
            "[140]\ttrain-logloss:0.332822\tvalid-logloss:0.360133\n",
            "[150]\ttrain-logloss:0.329646\tvalid-logloss:0.359064\n",
            "[160]\ttrain-logloss:0.327211\tvalid-logloss:0.358617\n",
            "[170]\ttrain-logloss:0.324414\tvalid-logloss:0.358123\n",
            "[180]\ttrain-logloss:0.321481\tvalid-logloss:0.357537\n",
            "[190]\ttrain-logloss:0.318685\tvalid-logloss:0.357451\n",
            "[200]\ttrain-logloss:0.316205\tvalid-logloss:0.357052\n",
            "[210]\ttrain-logloss:0.313018\tvalid-logloss:0.356421\n",
            "[220]\ttrain-logloss:0.310344\tvalid-logloss:0.356126\n",
            "[230]\ttrain-logloss:0.308106\tvalid-logloss:0.355682\n",
            "[240]\ttrain-logloss:0.306169\tvalid-logloss:0.355594\n",
            "[250]\ttrain-logloss:0.30345\tvalid-logloss:0.354851\n",
            "[260]\ttrain-logloss:0.301328\tvalid-logloss:0.354745\n",
            "[270]\ttrain-logloss:0.29863\tvalid-logloss:0.354444\n",
            "[280]\ttrain-logloss:0.296149\tvalid-logloss:0.354286\n",
            "[290]\ttrain-logloss:0.294025\tvalid-logloss:0.353878\n",
            "[300]\ttrain-logloss:0.292312\tvalid-logloss:0.353918\n",
            "[310]\ttrain-logloss:0.290316\tvalid-logloss:0.353588\n",
            "[320]\ttrain-logloss:0.287989\tvalid-logloss:0.353299\n",
            "[330]\ttrain-logloss:0.285945\tvalid-logloss:0.353228\n",
            "[340]\ttrain-logloss:0.283559\tvalid-logloss:0.352829\n",
            "[350]\ttrain-logloss:0.281455\tvalid-logloss:0.352781\n",
            "[360]\ttrain-logloss:0.27997\tvalid-logloss:0.352593\n",
            "[370]\ttrain-logloss:0.277715\tvalid-logloss:0.352428\n",
            "[380]\ttrain-logloss:0.275728\tvalid-logloss:0.352355\n",
            "[390]\ttrain-logloss:0.273866\tvalid-logloss:0.352322\n",
            "[399]\ttrain-logloss:0.271837\tvalid-logloss:0.352209\n",
            "The cv log loss at learning rate :  0.1  is :  0.35221052380773876\n"
          ]
        }
      ],
      "source": [
        "# Refer from https://towardsdatascience.com/xgboost-fine-tune-and-optimize-your-model-23d996fab663\n",
        "\n",
        "import xgboost as xgb\n",
        "params = {}\n",
        "params['objective'] = 'binary:logistic'  # Loss function to be minimized : binary:logistic gives probabilistic output\n",
        "params['eval_metric'] = 'logloss'  #The metric to be used for validation data.\n",
        "# params['eta'] = 0.02\n",
        "eta_rate = [10 ** x for x in range(-3, 0)]\n",
        "params['max_depth'] = 4\n",
        "# params['max_depth'] = [1,2,3,4,5]\n",
        "\n",
        "d_train = xgb.DMatrix(X_train, label=y_train)\n",
        "d_test = xgb.DMatrix(X_test, label=y_test)\n",
        "d_cv = xgb.DMatrix(X_cv, label=y_cv)\n",
        "\n",
        "watchlist = [(d_train, 'train'), (d_cv, 'valid')]\n",
        "\n",
        "loss_at_learning_rate = {}\n",
        "for learning_rate in eta_rate:\n",
        "  params['eta'] = learning_rate\n",
        "  bst = xgb.train(params, d_train, 400, watchlist, early_stopping_rounds=20, verbose_eval=10)\n",
        "  xgdmat = xgb.DMatrix(X_train,y_train)\n",
        "\n",
        "  predict_y_cv = bst.predict(d_cv)\n",
        "  log_loss_value = log_loss(y_cv, predict_y_cv, labels=clf.classes_, eps=1e-15)\n",
        "  print(\"The cv log loss at learning rate : \", learning_rate, \" is : \", log_loss_value)\n",
        "  loss_at_learning_rate[learning_rate] = log_loss_value\n",
        "\n",
        "\n",
        "\n"
      ]
    },
    {
      "cell_type": "code",
      "execution_count": null,
      "metadata": {
        "colab": {
          "background_save": true
        },
        "id": "VO6zgvqqeYGR",
        "outputId": "74856abf-1b8f-4855-d5ba-03b245a7349a"
      },
      "outputs": [
        {
          "name": "stdout",
          "output_type": "stream",
          "text": [
            "The best learning rate with least log loss is :  0.1  log loss is:   0.35221052380773876\n"
          ]
        }
      ],
      "source": [
        "best_learning_rate = sorted(loss_at_learning_rate.items(), key= lambda x : x[1])[0]\n",
        "print(\"The best learning rate with least log loss is : \",best_learning_rate[0], \" log loss is:  \",best_learning_rate[1])\n"
      ]
    },
    {
      "cell_type": "code",
      "execution_count": null,
      "metadata": {
        "colab": {
          "background_save": true
        },
        "id": "WmPBwVqTe9VH",
        "outputId": "1d73c657-257a-4730-fc8e-65e67672a08c"
      },
      "outputs": [
        {
          "name": "stdout",
          "output_type": "stream",
          "text": [
            "[0]\ttrain-logloss:0.653662\ttest-logloss:0.65367\n",
            "Multiple eval metrics have been passed: 'test-logloss' will be used for early stopping.\n",
            "\n",
            "Will train until test-logloss hasn't improved in 20 rounds.\n",
            "[10]\ttrain-logloss:0.468993\ttest-logloss:0.469868\n",
            "[20]\ttrain-logloss:0.414441\ttest-logloss:0.416308\n",
            "[30]\ttrain-logloss:0.392519\ttest-logloss:0.395604\n",
            "[40]\ttrain-logloss:0.380713\ttest-logloss:0.384852\n",
            "[50]\ttrain-logloss:0.37233\ttest-logloss:0.377919\n",
            "[60]\ttrain-logloss:0.365692\ttest-logloss:0.372651\n",
            "[70]\ttrain-logloss:0.35935\ttest-logloss:0.368573\n",
            "[80]\ttrain-logloss:0.354797\ttest-logloss:0.366439\n",
            "[90]\ttrain-logloss:0.350469\ttest-logloss:0.364209\n",
            "[100]\ttrain-logloss:0.346776\ttest-logloss:0.362806\n",
            "[110]\ttrain-logloss:0.343098\ttest-logloss:0.361135\n",
            "[120]\ttrain-logloss:0.339686\ttest-logloss:0.359979\n",
            "[130]\ttrain-logloss:0.335967\ttest-logloss:0.358823\n",
            "[140]\ttrain-logloss:0.332822\ttest-logloss:0.357918\n",
            "[150]\ttrain-logloss:0.329646\ttest-logloss:0.357005\n",
            "[160]\ttrain-logloss:0.327211\ttest-logloss:0.356667\n",
            "[170]\ttrain-logloss:0.324414\ttest-logloss:0.356162\n",
            "[180]\ttrain-logloss:0.321481\ttest-logloss:0.355552\n",
            "[190]\ttrain-logloss:0.318685\ttest-logloss:0.355307\n",
            "[200]\ttrain-logloss:0.316205\ttest-logloss:0.354771\n",
            "[210]\ttrain-logloss:0.313018\ttest-logloss:0.354085\n",
            "[220]\ttrain-logloss:0.310344\ttest-logloss:0.353626\n",
            "[230]\ttrain-logloss:0.308106\ttest-logloss:0.353385\n",
            "[240]\ttrain-logloss:0.306169\ttest-logloss:0.353261\n",
            "[250]\ttrain-logloss:0.30345\ttest-logloss:0.352637\n",
            "[260]\ttrain-logloss:0.301328\ttest-logloss:0.352664\n",
            "[270]\ttrain-logloss:0.29863\ttest-logloss:0.352284\n",
            "[280]\ttrain-logloss:0.296149\ttest-logloss:0.352183\n",
            "[290]\ttrain-logloss:0.294025\ttest-logloss:0.351859\n",
            "[300]\ttrain-logloss:0.292312\ttest-logloss:0.351742\n",
            "[310]\ttrain-logloss:0.290316\ttest-logloss:0.351586\n",
            "[320]\ttrain-logloss:0.287989\ttest-logloss:0.351433\n",
            "[330]\ttrain-logloss:0.285945\ttest-logloss:0.351177\n",
            "[340]\ttrain-logloss:0.283559\ttest-logloss:0.351038\n",
            "[350]\ttrain-logloss:0.281455\ttest-logloss:0.350957\n",
            "[360]\ttrain-logloss:0.27997\ttest-logloss:0.350875\n",
            "[370]\ttrain-logloss:0.277715\ttest-logloss:0.35058\n",
            "[380]\ttrain-logloss:0.275728\ttest-logloss:0.350428\n",
            "[390]\ttrain-logloss:0.273866\ttest-logloss:0.350257\n",
            "[399]\ttrain-logloss:0.271837\ttest-logloss:0.349849\n",
            "The test log loss is: 0.34985212849750025\n"
          ]
        }
      ],
      "source": [
        "# Retraining the model with best learning rate and calculating test log loss\n",
        "\n",
        "params['eta'] = best_learning_rate[0]\n",
        "watchlist = [(d_train, 'train'), (d_test, 'test')]\n",
        "\n",
        "bst = xgb.train(params, d_train, 400, watchlist, early_stopping_rounds=20, verbose_eval=10)\n",
        "xgdmat = xgb.DMatrix(X_train,y_train)\n",
        "\n",
        "predict_y = bst.predict(d_test)\n",
        "print(\"The test log loss is:\",log_loss(y_test, predict_y, labels=clf.classes_, eps=1e-15))"
      ]
    },
    {
      "cell_type": "code",
      "execution_count": null,
      "metadata": {
        "colab": {
          "background_save": true
        },
        "id": "6U5b17AatAS_",
        "outputId": "7cb0a6d7-3148-4892-f186-0c7d40c7f69a"
      },
      "outputs": [
        {
          "name": "stdout",
          "output_type": "stream",
          "text": [
            "Total number of data points : 30000\n"
          ]
        },
        {
          "data": {
            "image/png": "[encoded data removed]",
            "text/plain": [
              "<Figure size 1440x288 with 6 Axes>"
            ]
          },
          "metadata": {},
          "output_type": "display_data"
        }
      ],
      "source": [
        "predicted_y =np.array(predict_y>0.5,dtype=int)\n",
        "print(\"Total number of data points :\", len(predicted_y))\n",
        "plot_confusion_matrix(y_test, predicted_y)"
      ]
    },
    {
      "cell_type": "markdown",
      "metadata": {
        "id": "WmiIgHOJtATF"
      },
      "source": [
        "<h1> Conclusion </h1>"
      ]
    },
    {
      "cell_type": "markdown",
      "metadata": {
        "id": "CWS6JoB0tATF"
      },
      "source": [
        "1. Random model is used as base model with log loss = 0.88\n",
        "Hence our aim was to get models with log less less than 0.88\n",
        "\n",
        "2. Models we used SGD Classifier with loss func = 'log' (= Logistic regression) \n",
        "Log loss is lesser than Random model but Precision and Recall values are quite less for class 2 (See diagonal elements in precision and recall)\n",
        "\n",
        "3. SGD Classifier + loss func = 'hinge' (= Linear SVM) Log loss is lesser than Logistic reg model but Precision and Recall values are still quite less for class 2 (See diagonal elements in precision and recall)\n",
        "\n",
        "4. XGBoost has lowest log loss of all and has high precision and recall for both classes. Henced XGBosst is final model that we can sue to productionize.\n",
        "\n"
      ]
    }
  ],
  "metadata": {
    "colab": {
      "collapsed_sections": [],
      "name": "Quora_models.ipynb",
      "provenance": []
    },
    "kernelspec": {
      "display_name": "Python 3",
      "language": "python",
      "name": "python3"
    }
  },
  "nbformat": 4,
  "nbformat_minor": 0
}